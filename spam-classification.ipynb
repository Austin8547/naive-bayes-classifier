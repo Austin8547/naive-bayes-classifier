{
 "cells": [
  {
   "cell_type": "code",
   "execution_count": null,
   "metadata": {
    "_cell_guid": "b1076dfc-b9ad-4769-8c92-a6c4dae69d19",
    "_uuid": "8f2839f25d086af736a60e9eeb907d3b93b6e0e5",
    "execution": {
     "iopub.execute_input": "2025-07-12T18:13:43.571850Z",
     "iopub.status.busy": "2025-07-12T18:13:43.571542Z",
     "iopub.status.idle": "2025-07-12T18:13:43.578273Z",
     "shell.execute_reply": "2025-07-12T18:13:43.577016Z",
     "shell.execute_reply.started": "2025-07-12T18:13:43.571823Z"
    }
   },
   "outputs": [],
   "source": [
    "import numpy as np              \n",
    "import pandas as pd           #importing Necessary Libraries\n",
    "import seaborn as sns\n",
    "import matplotlib.pyplot as plt            \n",
    "from sklearn.naive_bayes import MultinomialNB\n",
    "from sklearn.model_selection import train_test_split\n",
    "from sklearn.feature_extraction.text import CountVectorizer\n",
    "from sklearn.metrics import confusion_matrix, ConfusionMatrixDisplay\n",
    "from sklearn.metrics import accuracy_score,precision_score,f1_score,recall_score\n"
   ]
  },
  {
   "cell_type": "code",
   "execution_count": null,
   "metadata": {
    "execution": {
     "iopub.execute_input": "2025-07-12T18:13:50.223773Z",
     "iopub.status.busy": "2025-07-12T18:13:50.223449Z",
     "iopub.status.idle": "2025-07-12T18:13:50.252237Z",
     "shell.execute_reply": "2025-07-12T18:13:50.251027Z",
     "shell.execute_reply.started": "2025-07-12T18:13:50.223749Z"
    }
   },
   "outputs": [],
   "source": [
    "\n",
    "data = pd.read_csv('/kaggle/input/spam-and-ham/spam.csv',encoding='latin1')  # reading dataset"
   ]
  },
  {
   "cell_type": "code",
   "execution_count": null,
   "metadata": {},
   "outputs": [],
   "source": [
    "data.head()"
   ]
  },
  {
   "cell_type": "code",
   "execution_count": null,
   "metadata": {
    "execution": {
     "iopub.execute_input": "2025-07-12T18:13:53.611627Z",
     "iopub.status.busy": "2025-07-12T18:13:53.611273Z",
     "iopub.status.idle": "2025-07-12T18:13:53.624509Z",
     "shell.execute_reply": "2025-07-12T18:13:53.623446Z",
     "shell.execute_reply.started": "2025-07-12T18:13:53.611602Z"
    }
   },
   "outputs": [],
   "source": [
    "data.info()"
   ]
  },
  {
   "cell_type": "code",
   "execution_count": null,
   "metadata": {
    "execution": {
     "iopub.execute_input": "2025-07-12T18:13:58.165970Z",
     "iopub.status.busy": "2025-07-12T18:13:58.165583Z",
     "iopub.status.idle": "2025-07-12T18:13:58.173477Z",
     "shell.execute_reply": "2025-07-12T18:13:58.172415Z",
     "shell.execute_reply.started": "2025-07-12T18:13:58.165923Z"
    }
   },
   "outputs": [],
   "source": [
    "data.shape"
   ]
  },
  {
   "cell_type": "code",
   "execution_count": null,
   "metadata": {
    "execution": {
     "iopub.execute_input": "2025-07-12T18:14:05.945274Z",
     "iopub.status.busy": "2025-07-12T18:14:05.944829Z",
     "iopub.status.idle": "2025-07-12T18:14:05.957316Z",
     "shell.execute_reply": "2025-07-12T18:14:05.956383Z",
     "shell.execute_reply.started": "2025-07-12T18:14:05.945243Z"
    }
   },
   "outputs": [],
   "source": [
    "data = data.drop(['Unnamed: 2','Unnamed: 3','Unnamed: 4'],axis=1)  #removing unwanted colums\n",
    "data.head()"
   ]
  },
  {
   "cell_type": "code",
   "execution_count": null,
   "metadata": {
    "execution": {
     "iopub.execute_input": "2025-07-12T18:14:09.534078Z",
     "iopub.status.busy": "2025-07-12T18:14:09.533715Z",
     "iopub.status.idle": "2025-07-12T18:14:09.547122Z",
     "shell.execute_reply": "2025-07-12T18:14:09.546039Z",
     "shell.execute_reply.started": "2025-07-12T18:14:09.534051Z"
    }
   },
   "outputs": [],
   "source": [
    "data['label'] = data.v1.map({'ham':0,'spam':1}) # Mapping text labels to numerical values: 'ham' → 0, 'spam' → 1\n",
    "data.head()"
   ]
  },
  {
   "cell_type": "code",
   "execution_count": null,
   "metadata": {
    "execution": {
     "iopub.execute_input": "2025-07-12T18:14:14.065063Z",
     "iopub.status.busy": "2025-07-12T18:14:14.064656Z",
     "iopub.status.idle": "2025-07-12T18:14:14.175341Z",
     "shell.execute_reply": "2025-07-12T18:14:14.174366Z",
     "shell.execute_reply.started": "2025-07-12T18:14:14.065031Z"
    }
   },
   "outputs": [],
   "source": [
    "# Convert messages into word count features\n",
    "wrd_array = CountVectorizer()  # Create a CountVectorizer object\n",
    "wrd_cnt = wrd_array.fit_transform(data['v2'])  # Fit and transform the text data\n",
    "\n",
    "# Show the shape of the word count matrix\n",
    "print(\"Shape of word count matrix:\", wrd_cnt.shape)\n"
   ]
  },
  {
   "cell_type": "code",
   "execution_count": null,
   "metadata": {
    "execution": {
     "iopub.execute_input": "2025-07-12T18:14:18.064784Z",
     "iopub.status.busy": "2025-07-12T18:14:18.063810Z",
     "iopub.status.idle": "2025-07-12T18:14:18.074455Z",
     "shell.execute_reply": "2025-07-12T18:14:18.073480Z",
     "shell.execute_reply.started": "2025-07-12T18:14:18.064742Z"
    }
   },
   "outputs": [],
   "source": [
    "y=data['label']    # spliting data for training\n",
    "X_train, X_test, y_train, y_test = train_test_split(\n",
    "    wrd_cnt, y, test_size=0.3, random_state=42\n",
    ")"
   ]
  },
  {
   "cell_type": "code",
   "execution_count": null,
   "metadata": {
    "execution": {
     "iopub.execute_input": "2025-07-12T18:14:21.852024Z",
     "iopub.status.busy": "2025-07-12T18:14:21.851648Z",
     "iopub.status.idle": "2025-07-12T18:14:21.864528Z",
     "shell.execute_reply": "2025-07-12T18:14:21.863426Z",
     "shell.execute_reply.started": "2025-07-12T18:14:21.851989Z"
    }
   },
   "outputs": [],
   "source": [
    "model = MultinomialNB()\n",
    "model.fit(X_train,y_train)   #model"
   ]
  },
  {
   "cell_type": "code",
   "execution_count": null,
   "metadata": {
    "execution": {
     "iopub.execute_input": "2025-07-12T18:40:56.750525Z",
     "iopub.status.busy": "2025-07-12T18:40:56.750148Z",
     "iopub.status.idle": "2025-07-12T18:40:56.756562Z",
     "shell.execute_reply": "2025-07-12T18:40:56.755374Z",
     "shell.execute_reply.started": "2025-07-12T18:40:56.750497Z"
    }
   },
   "outputs": [],
   "source": [
    "# Make predictions on the test data\n",
    "predictions = model.predict(X_test)\n"
   ]
  },
  {
   "cell_type": "code",
   "execution_count": null,
   "metadata": {
    "execution": {
     "iopub.execute_input": "2025-07-12T18:36:11.028071Z",
     "iopub.status.busy": "2025-07-12T18:36:11.027610Z",
     "iopub.status.idle": "2025-07-12T18:36:11.243575Z",
     "shell.execute_reply": "2025-07-12T18:36:11.242303Z",
     "shell.execute_reply.started": "2025-07-12T18:36:11.028031Z"
    }
   },
   "outputs": [],
   "source": [
    "    #Visualizing the Confusion Matrix using a Heatmap\n",
    "\n",
    "c_matrix = confusion_matrix(y_test, predictions) \n",
    "sns.heatmap(c_matrix, annot=True, fmt='d', cmap='Blues',          \n",
    "            xticklabels=['Predicted Ham', 'Predicted Spam'],\n",
    "            yticklabels=['Actual Ham', 'Actual Spam'])\n",
    "plt.xlabel('Predicted')\n",
    "plt.ylabel('Actual')\n",
    "plt.title('Confusion Matrix')\n",
    "plt.show()"
   ]
  },
  {
   "cell_type": "code",
   "execution_count": null,
   "metadata": {
    "execution": {
     "iopub.execute_input": "2025-07-12T18:14:34.152769Z",
     "iopub.status.busy": "2025-07-12T18:14:34.152438Z",
     "iopub.status.idle": "2025-07-12T18:14:34.169827Z",
     "shell.execute_reply": "2025-07-12T18:14:34.168862Z",
     "shell.execute_reply.started": "2025-07-12T18:14:34.152742Z"
    }
   },
   "outputs": [],
   "source": [
    "print(\"accuracy:\",accuracy_score(y_test,predictions))\n",
    "print(\"precision:\",precision_score(y_test,predictions))   #calculating accuracy,precision,f1score,recall\n",
    "print(\"recall :\",recall_score(y_test,predictions))\n",
    "print(\"f1 score: \",f1_score(y_test,predictions))"
   ]
  },
  {
   "cell_type": "code",
   "execution_count": null,
   "metadata": {
    "execution": {
     "iopub.execute_input": "2025-07-12T18:26:26.761438Z",
     "iopub.status.busy": "2025-07-12T18:26:26.761051Z",
     "iopub.status.idle": "2025-07-12T18:26:26.769806Z",
     "shell.execute_reply": "2025-07-12T18:26:26.768635Z",
     "shell.execute_reply.started": "2025-07-12T18:26:26.761411Z"
    }
   },
   "outputs": [],
   "source": [
    "#  Function to check if a single message is spam or ham\n",
    "def check_message(message):\n",
    "    message_vector = wrd_array.transform([message])  # Convert message to vector using the trained vectorizer\n",
    "    prediction = model.predict(message_vector)[0]  # Predict using the trained model\n",
    "    score = model.predict_proba(message_vector)[0]  # Get the probability scores for ham and spam\n",
    "\n",
    "    # Print the message and prediction results\n",
    "    print(f\"Message: {message}\")\n",
    "    print(f\"Predicted as: {'Spam' if prediction == 1 else 'Ham'}\")\n",
    "    print(f\"Ham score: {score[0]*100:.2f}%\")\n",
    "    print(f\"Spam score: {score[1]*100:.2f}%\")\n",
    "\n",
    "#  Test the function with a sample message\n",
    "message = \"free money , review your account\"\n",
    "check_message(message)\n"
   ]
  },
  {
   "cell_type": "code",
   "execution_count": null,
   "metadata": {
    "execution": {
     "iopub.execute_input": "2025-07-12T18:42:29.685406Z",
     "iopub.status.busy": "2025-07-12T18:42:29.684998Z",
     "iopub.status.idle": "2025-07-12T18:42:29.698352Z",
     "shell.execute_reply": "2025-07-12T18:42:29.697353Z",
     "shell.execute_reply.started": "2025-07-12T18:42:29.685377Z"
    }
   },
   "outputs": [],
   "source": [
    "# Function to check if multiple messages are spam or ham\n",
    "def check_spam(messages):\n",
    "    for msg in messages:\n",
    "        msg_vector = wrd_array.transform([msg])  # Convert each message to vector form\n",
    "        prediction = model.predict(msg_vector)[0]  # Predict spam or ham\n",
    "        score = model.predict_proba(msg_vector)[0]  # Get prediction probabilities\n",
    "\n",
    "        # Print the message and prediction results\n",
    "        print(f\"Message: {msg}\")\n",
    "        print(f\"Predicted as: {'Spam' if prediction == 1 else 'Ham'}\")\n",
    "        print(f\"Ham score: {score[0]*100:.2f}%\")\n",
    "        print(f\"Spam score: {score[1]*100:.2f}%\")\n",
    "        print(\"-\" * 50)  # Separator for readability\n",
    "\n",
    "# List of messages to test\n",
    "messages = [\n",
    "    \"free cash offer now\",\n",
    "    \"are we meeting today?\",\n",
    "    \"win big prizes\",\n",
    "    \"hii austin how are you\",\n",
    "    \"limited time deal just for you\"\n",
    "]\n",
    "\n",
    "#  Run the function to check all messages\n",
    "check_spam(messages)\n"
   ]
  }
 ],
 "metadata": {
  "kaggle": {
   "accelerator": "none",
   "dataSources": [
    {
     "datasetId": 7854165,
     "sourceId": 12450863,
     "sourceType": "datasetVersion"
    },
    {
     "datasetId": 7854738,
     "sourceId": 12451751,
     "sourceType": "datasetVersion"
    }
   ],
   "dockerImageVersionId": 31089,
   "isGpuEnabled": false,
   "isInternetEnabled": false,
   "language": "python",
   "sourceType": "notebook"
  },
  "kernelspec": {
   "display_name": "Python 3 (ipykernel)",
   "language": "python",
   "name": "python3"
  },
  "language_info": {
   "codemirror_mode": {
    "name": "ipython",
    "version": 3
   },
   "file_extension": ".py",
   "mimetype": "text/x-python",
   "name": "python",
   "nbconvert_exporter": "python",
   "pygments_lexer": "ipython3",
   "version": "3.10.12"
  }
 },
 "nbformat": 4,
 "nbformat_minor": 4
}
